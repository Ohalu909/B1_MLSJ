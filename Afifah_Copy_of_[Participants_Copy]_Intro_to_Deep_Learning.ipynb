{
  "nbformat": 4,
  "nbformat_minor": 0,
  "metadata": {
    "colab": {
      "name": "Afifah_Copy of [Participants Copy] Intro_to_Deep_Learning.ipynb",
      "provenance": [],
      "collapsed_sections": [],
      "include_colab_link": true
    },
    "kernelspec": {
      "name": "python3",
      "display_name": "Python 3"
    },
    "language_info": {
      "name": "python"
    },
    "accelerator": "GPU"
  },
  "cells": [
    {
      "cell_type": "markdown",
      "metadata": {
        "id": "view-in-github",
        "colab_type": "text"
      },
      "source": [
        "<a href=\"https://colab.research.google.com/github/Ohalu909/B1_MLSJ/blob/main/Afifah_Copy_of_%5BParticipants_Copy%5D_Intro_to_Deep_Learning.ipynb\" target=\"_parent\"><img src=\"https://colab.research.google.com/assets/colab-badge.svg\" alt=\"Open In Colab\"/></a>"
      ]
    },
    {
      "cell_type": "markdown",
      "source": [
        "**☺️☺️ Please go to 'File' and 'Save a copy in Drive' to create a copy for yourself**\n",
        "\n",
        "~ created by GDSC Malaysia MLSTUDYJAM 2022 mentors ~"
      ],
      "metadata": {
        "id": "zzsYD3o1hl61"
      }
    },
    {
      "cell_type": "markdown",
      "source": [
        "# Welcome to GDSC Malaysia ML Study Jam"
      ],
      "metadata": {
        "id": "jHZgDwf04de-"
      }
    },
    {
      "cell_type": "markdown",
      "source": [
        "## A quick welcome message from our team 💐💐💐"
      ],
      "metadata": {
        "id": "IZvCzMrb4oeW"
      }
    },
    {
      "cell_type": "code",
      "execution_count": null,
      "metadata": {
        "id": "G4xsk8Ede1Yb",
        "colab": {
          "base_uri": "https://localhost:8080/",
          "height": 322
        },
        "outputId": "1a7240b6-0fc1-4d80-eb6a-b83ac93fbde0"
      },
      "outputs": [
        {
          "output_type": "execute_result",
          "data": {
            "text/plain": [
              "<IPython.lib.display.YouTubeVideo at 0x7f92a50c5450>"
            ],
            "text/html": [
              "\n",
              "        <iframe\n",
              "            width=\"400\"\n",
              "            height=\"300\"\n",
              "            src=\"https://www.youtube.com/embed/dQw4w9WgXcQ\"\n",
              "            frameborder=\"0\"\n",
              "            allowfullscreen\n",
              "        ></iframe>\n",
              "        "
            ],
            "image/jpeg": "[encoded data removed]"
          },
          "metadata": {},
          "execution_count": 20
        }
      ],
      "source": [
        "from IPython.display import YouTubeVideo\n",
        "YouTubeVideo('dQw4w9WgXcQ')"
      ]
    },
    {
      "cell_type": "markdown",
      "source": [
        "## Theory for building blocks of network\n"
      ],
      "metadata": {
        "id": "ru6mdvQb45wu"
      }
    },
    {
      "cell_type": "markdown",
      "source": [
        "Explained in [Google Slide](https://docs.google.com/presentation/d/1S8FhtD-TFTfUvOVnvXZUxU1dr2WaNY2wMb-FJNDboWY/edit?usp=sharing&resourcekey=0-iax8y46py1rzeWYAM2hEbg)"
      ],
      "metadata": {
        "id": "n_SjBdGZaSyy"
      }
    },
    {
      "cell_type": "markdown",
      "source": [
        "# Steps in Machine Learning Modeling\n",
        "\n",
        "⏪ Quick Recap:\n",
        "\n",
        "What are the **steps to build a machine learning model**? 🙋"
      ],
      "metadata": {
        "id": "tiePgZK4MS99"
      }
    },
    {
      "cell_type": "markdown",
      "source": [
        "##STEP 1: DATA COLLECTION\n",
        "\n"
      ],
      "metadata": {
        "id": "0tQCvmIpMV9m"
      }
    },
    {
      "cell_type": "markdown",
      "source": [
        "## Importing the Libraries"
      ],
      "metadata": {
        "id": "SDlsafqq5ABI"
      }
    },
    {
      "cell_type": "code",
      "source": [
        "#import the libraries\n",
        "import numpy as np\n",
        "import matplotlib.pyplot as plt\n",
        "import tensorflow as tf\n",
        "from tensorflow.keras.models import Model\n",
        "from tensorflow.keras.layers import Dense, Input\n",
        "from tensorflow.keras.optimizers import SGD\n",
        "from tensorflow.keras.utils import plot_model"
      ],
      "metadata": {
        "id": "eMkfL54H5HAI"
      },
      "execution_count": null,
      "outputs": []
    },
    {
      "cell_type": "markdown",
      "source": [
        "### Import the MNIST Dataset \n",
        "### (Modified National Institute of Standards and Technology database)\n",
        "\n",
        "![This is a MNIST Dataset Image](https://drive.google.com/uc?export=view&id=1FeLSazJ9-SxC4CVpLxiJltU8PNt7Jpbp)\n",
        "\n",
        "- a dataset of _handwritten digits_\n",
        "- Read more here : https://en.wikipedia.org/wiki/MNIST_database\n",
        "\n"
      ],
      "metadata": {
        "id": "X_uqPZXbNFca"
      }
    },
    {
      "cell_type": "markdown",
      "source": [
        "### Data Splitting\n",
        "\n",
        "![This is a data splitting image](https://drive.google.com/uc?export=view&id=1jU3SJGY05eq_TRM2fmPUSbBtNA-UF8ue)\n",
        "\n",
        "Read more about Data Splitting: https://www.applause.com/blog/training-data-validation-data-vs-test-data\n",
        "\n",
        "#### What is x and y?\n",
        "\n",
        "![This is a image explaining on x & y values](https://drive.google.com/uc?export=view&id=1fGvknWLz-Zb8kImQbcXj1lMhFiD5l0tZ)\n",
        "\n",
        "- x is the input (questions/image)\n",
        "- y is the output (answers/label)"
      ],
      "metadata": {
        "id": "F6UO4YHxRCkW"
      }
    },
    {
      "cell_type": "code",
      "source": [
        "# import MNIST dataset\n",
        "from tensorflow.keras.datasets import mnist\n",
        "\n",
        "#split the data upon loading the dataset\n",
        "(x_train,y_train),(x_test,y_test) = mnist.load_data()"
      ],
      "metadata": {
        "id": "7djHnoSrJ_FE"
      },
      "execution_count": null,
      "outputs": []
    },
    {
      "cell_type": "code",
      "source": [
        "#Take a look at the imported dataset\n",
        "#For train dataset\n",
        "print(x_train.shape)\n",
        "print(y_train.shape)\n",
        "#For test dataset\n",
        "print(x_test.shape)\n",
        "print(y_test.shape)"
      ],
      "metadata": {
        "id": "5ADSa4zwNcRa",
        "colab": {
          "base_uri": "https://localhost:8080/"
        },
        "outputId": "ff92db40-6271-4883-fcce-8df27c490a94"
      },
      "execution_count": null,
      "outputs": [
        {
          "output_type": "stream",
          "name": "stdout",
          "text": [
            "(60000, 28, 28)\n",
            "(60000,)\n",
            "(10000, 28, 28)\n",
            "(10000,)\n"
          ]
        }
      ]
    },
    {
      "cell_type": "markdown",
      "source": [
        "Based on the insight above, we can see that the MNIST dataset has:\n",
        "\n",
        "- **60,000** Train data (for training) & **10,000** Test data (for validation)\n",
        "- Each images is a 28 x 28 pixel size\n",
        "- Images are _1 channel depth only_ (Black & White Image)\n"
      ],
      "metadata": {
        "id": "GXRwgeTUNuFG"
      }
    },
    {
      "cell_type": "markdown",
      "source": [
        "### Let's take a look at our image and its corresponding label\n",
        "\n",
        "- Take note that, x is the image & y is the label\n",
        "\n",
        "#### This is an example of what array is\n",
        "![This is a image explaining about Array indices](https://drive.google.com/uc?export=view&id=1kT8MDH5tqyow0vgxppMlfCJRD2mlQXwD)\n"
      ],
      "metadata": {
        "id": "Rm3-mJt-TrNL"
      }
    },
    {
      "cell_type": "code",
      "source": [
        "#Let's look at our first image of the dataset (What is our first image like?) - It is represented in a multidimensional array format\n",
        "x_train[0]"
      ],
      "metadata": {
        "id": "mmiFaQAwUOCI",
        "colab": {
          "base_uri": "https://localhost:8080/"
        },
        "outputId": "2bbfaffe-571c-4a9d-97d6-629af09471b4"
      },
      "execution_count": null,
      "outputs": [
        {
          "output_type": "execute_result",
          "data": {
            "text/plain": [
              "array([[  0,   0,   0,   0,   0,   0,   0,   0,   0,   0,   0,   0,   0,\n",
              "          0,   0,   0,   0,   0,   0,   0,   0,   0,   0,   0,   0,   0,\n",
              "          0,   0],\n",
              "       [  0,   0,   0,   0,   0,   0,   0,   0,   0,   0,   0,   0,   0,\n",
              "          0,   0,   0,   0,   0,   0,   0,   0,   0,   0,   0,   0,   0,\n",
              "          0,   0],\n",
              "       [  0,   0,   0,   0,   0,   0,   0,   0,   0,   0,   0,   0,   0,\n",
              "          0,   0,   0,   0,   0,   0,   0,   0,   0,   0,   0,   0,   0,\n",
              "          0,   0],\n",
              "       [  0,   0,   0,   0,   0,   0,   0,   0,   0,   0,   0,   0,   0,\n",
              "          0,   0,   0,   0,   0,   0,   0,   0,   0,   0,   0,   0,   0,\n",
              "          0,   0],\n",
              "       [  0,   0,   0,   0,   0,   0,   0,   0,   0,   0,   0,   0,   0,\n",
              "          0,   0,   0,   0,   0,   0,   0,   0,   0,   0,   0,   0,   0,\n",
              "          0,   0],\n",
              "       [  0,   0,   0,   0,   0,   0,   0,   0,   0,   0,   0,   0,   3,\n",
              "         18,  18,  18, 126, 136, 175,  26, 166, 255, 247, 127,   0,   0,\n",
              "          0,   0],\n",
              "       [  0,   0,   0,   0,   0,   0,   0,   0,  30,  36,  94, 154, 170,\n",
              "        253, 253, 253, 253, 253, 225, 172, 253, 242, 195,  64,   0,   0,\n",
              "          0,   0],\n",
              "       [  0,   0,   0,   0,   0,   0,   0,  49, 238, 253, 253, 253, 253,\n",
              "        253, 253, 253, 253, 251,  93,  82,  82,  56,  39,   0,   0,   0,\n",
              "          0,   0],\n",
              "       [  0,   0,   0,   0,   0,   0,   0,  18, 219, 253, 253, 253, 253,\n",
              "        253, 198, 182, 247, 241,   0,   0,   0,   0,   0,   0,   0,   0,\n",
              "          0,   0],\n",
              "       [  0,   0,   0,   0,   0,   0,   0,   0,  80, 156, 107, 253, 253,\n",
              "        205,  11,   0,  43, 154,   0,   0,   0,   0,   0,   0,   0,   0,\n",
              "          0,   0],\n",
              "       [  0,   0,   0,   0,   0,   0,   0,   0,   0,  14,   1, 154, 253,\n",
              "         90,   0,   0,   0,   0,   0,   0,   0,   0,   0,   0,   0,   0,\n",
              "          0,   0],\n",
              "       [  0,   0,   0,   0,   0,   0,   0,   0,   0,   0,   0, 139, 253,\n",
              "        190,   2,   0,   0,   0,   0,   0,   0,   0,   0,   0,   0,   0,\n",
              "          0,   0],\n",
              "       [  0,   0,   0,   0,   0,   0,   0,   0,   0,   0,   0,  11, 190,\n",
              "        253,  70,   0,   0,   0,   0,   0,   0,   0,   0,   0,   0,   0,\n",
              "          0,   0],\n",
              "       [  0,   0,   0,   0,   0,   0,   0,   0,   0,   0,   0,   0,  35,\n",
              "        241, 225, 160, 108,   1,   0,   0,   0,   0,   0,   0,   0,   0,\n",
              "          0,   0],\n",
              "       [  0,   0,   0,   0,   0,   0,   0,   0,   0,   0,   0,   0,   0,\n",
              "         81, 240, 253, 253, 119,  25,   0,   0,   0,   0,   0,   0,   0,\n",
              "          0,   0],\n",
              "       [  0,   0,   0,   0,   0,   0,   0,   0,   0,   0,   0,   0,   0,\n",
              "          0,  45, 186, 253, 253, 150,  27,   0,   0,   0,   0,   0,   0,\n",
              "          0,   0],\n",
              "       [  0,   0,   0,   0,   0,   0,   0,   0,   0,   0,   0,   0,   0,\n",
              "          0,   0,  16,  93, 252, 253, 187,   0,   0,   0,   0,   0,   0,\n",
              "          0,   0],\n",
              "       [  0,   0,   0,   0,   0,   0,   0,   0,   0,   0,   0,   0,   0,\n",
              "          0,   0,   0,   0, 249, 253, 249,  64,   0,   0,   0,   0,   0,\n",
              "          0,   0],\n",
              "       [  0,   0,   0,   0,   0,   0,   0,   0,   0,   0,   0,   0,   0,\n",
              "          0,  46, 130, 183, 253, 253, 207,   2,   0,   0,   0,   0,   0,\n",
              "          0,   0],\n",
              "       [  0,   0,   0,   0,   0,   0,   0,   0,   0,   0,   0,   0,  39,\n",
              "        148, 229, 253, 253, 253, 250, 182,   0,   0,   0,   0,   0,   0,\n",
              "          0,   0],\n",
              "       [  0,   0,   0,   0,   0,   0,   0,   0,   0,   0,  24, 114, 221,\n",
              "        253, 253, 253, 253, 201,  78,   0,   0,   0,   0,   0,   0,   0,\n",
              "          0,   0],\n",
              "       [  0,   0,   0,   0,   0,   0,   0,   0,  23,  66, 213, 253, 253,\n",
              "        253, 253, 198,  81,   2,   0,   0,   0,   0,   0,   0,   0,   0,\n",
              "          0,   0],\n",
              "       [  0,   0,   0,   0,   0,   0,  18, 171, 219, 253, 253, 253, 253,\n",
              "        195,  80,   9,   0,   0,   0,   0,   0,   0,   0,   0,   0,   0,\n",
              "          0,   0],\n",
              "       [  0,   0,   0,   0,  55, 172, 226, 253, 253, 253, 253, 244, 133,\n",
              "         11,   0,   0,   0,   0,   0,   0,   0,   0,   0,   0,   0,   0,\n",
              "          0,   0],\n",
              "       [  0,   0,   0,   0, 136, 253, 253, 253, 212, 135, 132,  16,   0,\n",
              "          0,   0,   0,   0,   0,   0,   0,   0,   0,   0,   0,   0,   0,\n",
              "          0,   0],\n",
              "       [  0,   0,   0,   0,   0,   0,   0,   0,   0,   0,   0,   0,   0,\n",
              "          0,   0,   0,   0,   0,   0,   0,   0,   0,   0,   0,   0,   0,\n",
              "          0,   0],\n",
              "       [  0,   0,   0,   0,   0,   0,   0,   0,   0,   0,   0,   0,   0,\n",
              "          0,   0,   0,   0,   0,   0,   0,   0,   0,   0,   0,   0,   0,\n",
              "          0,   0],\n",
              "       [  0,   0,   0,   0,   0,   0,   0,   0,   0,   0,   0,   0,   0,\n",
              "          0,   0,   0,   0,   0,   0,   0,   0,   0,   0,   0,   0,   0,\n",
              "          0,   0]], dtype=uint8)"
            ]
          },
          "metadata": {},
          "execution_count": 24
        }
      ]
    },
    {
      "cell_type": "code",
      "source": [
        "#And its corresponding label to the first image. (What is the answer to this first image?)\n",
        "y_train[0]"
      ],
      "metadata": {
        "id": "7ucRiPd4U2Yx",
        "colab": {
          "base_uri": "https://localhost:8080/"
        },
        "outputId": "d4cf56b8-1ded-42f0-8d27-c3414989a94a"
      },
      "execution_count": null,
      "outputs": [
        {
          "output_type": "execute_result",
          "data": {
            "text/plain": [
              "5"
            ]
          },
          "metadata": {},
          "execution_count": 25
        }
      ]
    },
    {
      "cell_type": "markdown",
      "source": [
        "##STEP 2: DATA PRE-PROCESSING\n",
        "\n"
      ],
      "metadata": {
        "id": "Plr59cFn5Hk8"
      }
    },
    {
      "cell_type": "markdown",
      "source": [
        "### Preparing the data for a basic network"
      ],
      "metadata": {
        "id": "A81nmGdnG9CZ"
      }
    },
    {
      "cell_type": "markdown",
      "source": [
        "<img src=\"https://drive.google.com/uc?id=1Rp4YTgzTsUCg7zV-5_fi0aIANMMCKxIT\" alt =\"diagram 1\" width=500>"
      ],
      "metadata": {
        "id": "FhIwA_CNNiZG"
      }
    },
    {
      "cell_type": "markdown",
      "source": [
        "<img src=\"https://drive.google.com/uc?id=1rIMn7RJldfjE3ko4JGBO0kxNV5dag6yL\" alt =\"diagram 2\" width=500>"
      ],
      "metadata": {
        "id": "YJTo55KJPJFH"
      }
    },
    {
      "cell_type": "code",
      "source": [
        "# changing the shape of our data to be flat vectors instead of matrices\n",
        "x_train = x_train.reshape(60000, 784)\n",
        "x_test = x_test.reshape(10000, 784)\n",
        "\n",
        "# Converting the ints to float for floating point math\n",
        "x_train = x_train.astype('float32')\n",
        "x_test = x_test.astype('float32')\n",
        "\n",
        "print(x_train.shape, x_train.dtype, 'train samples')\n",
        "print(x_test.shape, x_test.dtype, 'test samples')"
      ],
      "metadata": {
        "id": "ELfJXNhu5Kz1",
        "colab": {
          "base_uri": "https://localhost:8080/"
        },
        "outputId": "e4306511-685a-4b66-91e6-1eac4ad6b38b"
      },
      "execution_count": null,
      "outputs": [
        {
          "output_type": "stream",
          "name": "stdout",
          "text": [
            "(60000, 784) float32 train samples\n",
            "(10000, 784) float32 test samples\n"
          ]
        }
      ]
    },
    {
      "cell_type": "markdown",
      "source": [
        "<img src=\"https://drive.google.com/uc?id=1ADrr9571XCbE8SMrvIwTUx4RXgHvFIRo\" alt =\"diagram 3\" width=500>"
      ],
      "metadata": {
        "id": "YOIjX6sZP2aS"
      }
    },
    {
      "cell_type": "code",
      "source": [
        "# Standardizing the data to be between 0-1 --- Be careful to only do this once\n",
        "x_train /= 255.0\n",
        "x_test /= 255.0"
      ],
      "metadata": {
        "id": "wH9dVmFNQv43"
      },
      "execution_count": null,
      "outputs": []
    },
    {
      "cell_type": "code",
      "source": [
        "#examine what the first image looks like\n",
        "x_train[0]"
      ],
      "metadata": {
        "id": "9tYxNa7VGohk",
        "colab": {
          "base_uri": "https://localhost:8080/"
        },
        "outputId": "4de28bb6-f0aa-43e2-d10c-574cff7e3352"
      },
      "execution_count": null,
      "outputs": [
        {
          "output_type": "execute_result",
          "data": {
            "text/plain": [
              "array([0.        , 0.        , 0.        , 0.        , 0.        ,\n",
              "       0.        , 0.        , 0.        , 0.        , 0.        ,\n",
              "       0.        , 0.        , 0.        , 0.        , 0.        ,\n",
              "       0.        , 0.        , 0.        , 0.        , 0.        ,\n",
              "       0.        , 0.        , 0.        , 0.        , 0.        ,\n",
              "       0.        , 0.        , 0.        , 0.        , 0.        ,\n",
              "       0.        , 0.        , 0.        , 0.        , 0.        ,\n",
              "       0.        , 0.        , 0.        , 0.        , 0.        ,\n",
              "       0.        , 0.        , 0.        , 0.        , 0.        ,\n",
              "       0.        , 0.        , 0.        , 0.        , 0.        ,\n",
              "       0.        , 0.        , 0.        , 0.        , 0.        ,\n",
              "       0.        , 0.        , 0.        , 0.        , 0.        ,\n",
              "       0.        , 0.        , 0.        , 0.        , 0.        ,\n",
              "       0.        , 0.        , 0.        , 0.        , 0.        ,\n",
              "       0.        , 0.        , 0.        , 0.        , 0.        ,\n",
              "       0.        , 0.        , 0.        , 0.        , 0.        ,\n",
              "       0.        , 0.        , 0.        , 0.        , 0.        ,\n",
              "       0.        , 0.        , 0.        , 0.        , 0.        ,\n",
              "       0.        , 0.        , 0.        , 0.        , 0.        ,\n",
              "       0.        , 0.        , 0.        , 0.        , 0.        ,\n",
              "       0.        , 0.        , 0.        , 0.        , 0.        ,\n",
              "       0.        , 0.        , 0.        , 0.        , 0.        ,\n",
              "       0.        , 0.        , 0.        , 0.        , 0.        ,\n",
              "       0.        , 0.        , 0.        , 0.        , 0.        ,\n",
              "       0.        , 0.        , 0.        , 0.        , 0.        ,\n",
              "       0.        , 0.        , 0.        , 0.        , 0.        ,\n",
              "       0.        , 0.        , 0.        , 0.        , 0.        ,\n",
              "       0.        , 0.        , 0.        , 0.        , 0.        ,\n",
              "       0.        , 0.        , 0.        , 0.        , 0.        ,\n",
              "       0.        , 0.        , 0.        , 0.        , 0.        ,\n",
              "       0.        , 0.        , 0.01176471, 0.07058824, 0.07058824,\n",
              "       0.07058824, 0.49411765, 0.53333336, 0.6862745 , 0.10196079,\n",
              "       0.6509804 , 1.        , 0.96862745, 0.49803922, 0.        ,\n",
              "       0.        , 0.        , 0.        , 0.        , 0.        ,\n",
              "       0.        , 0.        , 0.        , 0.        , 0.        ,\n",
              "       0.        , 0.11764706, 0.14117648, 0.36862746, 0.6039216 ,\n",
              "       0.6666667 , 0.99215686, 0.99215686, 0.99215686, 0.99215686,\n",
              "       0.99215686, 0.88235295, 0.6745098 , 0.99215686, 0.9490196 ,\n",
              "       0.7647059 , 0.2509804 , 0.        , 0.        , 0.        ,\n",
              "       0.        , 0.        , 0.        , 0.        , 0.        ,\n",
              "       0.        , 0.        , 0.        , 0.19215687, 0.93333334,\n",
              "       0.99215686, 0.99215686, 0.99215686, 0.99215686, 0.99215686,\n",
              "       0.99215686, 0.99215686, 0.99215686, 0.9843137 , 0.3647059 ,\n",
              "       0.32156864, 0.32156864, 0.21960784, 0.15294118, 0.        ,\n",
              "       0.        , 0.        , 0.        , 0.        , 0.        ,\n",
              "       0.        , 0.        , 0.        , 0.        , 0.        ,\n",
              "       0.        , 0.07058824, 0.85882354, 0.99215686, 0.99215686,\n",
              "       0.99215686, 0.99215686, 0.99215686, 0.7764706 , 0.7137255 ,\n",
              "       0.96862745, 0.94509804, 0.        , 0.        , 0.        ,\n",
              "       0.        , 0.        , 0.        , 0.        , 0.        ,\n",
              "       0.        , 0.        , 0.        , 0.        , 0.        ,\n",
              "       0.        , 0.        , 0.        , 0.        , 0.        ,\n",
              "       0.3137255 , 0.6117647 , 0.41960785, 0.99215686, 0.99215686,\n",
              "       0.8039216 , 0.04313726, 0.        , 0.16862746, 0.6039216 ,\n",
              "       0.        , 0.        , 0.        , 0.        , 0.        ,\n",
              "       0.        , 0.        , 0.        , 0.        , 0.        ,\n",
              "       0.        , 0.        , 0.        , 0.        , 0.        ,\n",
              "       0.        , 0.        , 0.        , 0.        , 0.05490196,\n",
              "       0.00392157, 0.6039216 , 0.99215686, 0.3529412 , 0.        ,\n",
              "       0.        , 0.        , 0.        , 0.        , 0.        ,\n",
              "       0.        , 0.        , 0.        , 0.        , 0.        ,\n",
              "       0.        , 0.        , 0.        , 0.        , 0.        ,\n",
              "       0.        , 0.        , 0.        , 0.        , 0.        ,\n",
              "       0.        , 0.        , 0.        , 0.        , 0.54509807,\n",
              "       0.99215686, 0.74509805, 0.00784314, 0.        , 0.        ,\n",
              "       0.        , 0.        , 0.        , 0.        , 0.        ,\n",
              "       0.        , 0.        , 0.        , 0.        , 0.        ,\n",
              "       0.        , 0.        , 0.        , 0.        , 0.        ,\n",
              "       0.        , 0.        , 0.        , 0.        , 0.        ,\n",
              "       0.        , 0.        , 0.04313726, 0.74509805, 0.99215686,\n",
              "       0.27450982, 0.        , 0.        , 0.        , 0.        ,\n",
              "       0.        , 0.        , 0.        , 0.        , 0.        ,\n",
              "       0.        , 0.        , 0.        , 0.        , 0.        ,\n",
              "       0.        , 0.        , 0.        , 0.        , 0.        ,\n",
              "       0.        , 0.        , 0.        , 0.        , 0.        ,\n",
              "       0.        , 0.13725491, 0.94509804, 0.88235295, 0.627451  ,\n",
              "       0.42352942, 0.00392157, 0.        , 0.        , 0.        ,\n",
              "       0.        , 0.        , 0.        , 0.        , 0.        ,\n",
              "       0.        , 0.        , 0.        , 0.        , 0.        ,\n",
              "       0.        , 0.        , 0.        , 0.        , 0.        ,\n",
              "       0.        , 0.        , 0.        , 0.        , 0.        ,\n",
              "       0.31764707, 0.9411765 , 0.99215686, 0.99215686, 0.46666667,\n",
              "       0.09803922, 0.        , 0.        , 0.        , 0.        ,\n",
              "       0.        , 0.        , 0.        , 0.        , 0.        ,\n",
              "       0.        , 0.        , 0.        , 0.        , 0.        ,\n",
              "       0.        , 0.        , 0.        , 0.        , 0.        ,\n",
              "       0.        , 0.        , 0.        , 0.        , 0.1764706 ,\n",
              "       0.7294118 , 0.99215686, 0.99215686, 0.5882353 , 0.10588235,\n",
              "       0.        , 0.        , 0.        , 0.        , 0.        ,\n",
              "       0.        , 0.        , 0.        , 0.        , 0.        ,\n",
              "       0.        , 0.        , 0.        , 0.        , 0.        ,\n",
              "       0.        , 0.        , 0.        , 0.        , 0.        ,\n",
              "       0.        , 0.        , 0.        , 0.0627451 , 0.3647059 ,\n",
              "       0.9882353 , 0.99215686, 0.73333335, 0.        , 0.        ,\n",
              "       0.        , 0.        , 0.        , 0.        , 0.        ,\n",
              "       0.        , 0.        , 0.        , 0.        , 0.        ,\n",
              "       0.        , 0.        , 0.        , 0.        , 0.        ,\n",
              "       0.        , 0.        , 0.        , 0.        , 0.        ,\n",
              "       0.        , 0.        , 0.        , 0.9764706 , 0.99215686,\n",
              "       0.9764706 , 0.2509804 , 0.        , 0.        , 0.        ,\n",
              "       0.        , 0.        , 0.        , 0.        , 0.        ,\n",
              "       0.        , 0.        , 0.        , 0.        , 0.        ,\n",
              "       0.        , 0.        , 0.        , 0.        , 0.        ,\n",
              "       0.        , 0.        , 0.        , 0.18039216, 0.50980395,\n",
              "       0.7176471 , 0.99215686, 0.99215686, 0.8117647 , 0.00784314,\n",
              "       0.        , 0.        , 0.        , 0.        , 0.        ,\n",
              "       0.        , 0.        , 0.        , 0.        , 0.        ,\n",
              "       0.        , 0.        , 0.        , 0.        , 0.        ,\n",
              "       0.        , 0.        , 0.        , 0.        , 0.15294118,\n",
              "       0.5803922 , 0.8980392 , 0.99215686, 0.99215686, 0.99215686,\n",
              "       0.98039216, 0.7137255 , 0.        , 0.        , 0.        ,\n",
              "       0.        , 0.        , 0.        , 0.        , 0.        ,\n",
              "       0.        , 0.        , 0.        , 0.        , 0.        ,\n",
              "       0.        , 0.        , 0.        , 0.        , 0.        ,\n",
              "       0.09411765, 0.44705883, 0.8666667 , 0.99215686, 0.99215686,\n",
              "       0.99215686, 0.99215686, 0.7882353 , 0.30588236, 0.        ,\n",
              "       0.        , 0.        , 0.        , 0.        , 0.        ,\n",
              "       0.        , 0.        , 0.        , 0.        , 0.        ,\n",
              "       0.        , 0.        , 0.        , 0.        , 0.        ,\n",
              "       0.        , 0.09019608, 0.25882354, 0.8352941 , 0.99215686,\n",
              "       0.99215686, 0.99215686, 0.99215686, 0.7764706 , 0.31764707,\n",
              "       0.00784314, 0.        , 0.        , 0.        , 0.        ,\n",
              "       0.        , 0.        , 0.        , 0.        , 0.        ,\n",
              "       0.        , 0.        , 0.        , 0.        , 0.        ,\n",
              "       0.        , 0.        , 0.07058824, 0.67058825, 0.85882354,\n",
              "       0.99215686, 0.99215686, 0.99215686, 0.99215686, 0.7647059 ,\n",
              "       0.3137255 , 0.03529412, 0.        , 0.        , 0.        ,\n",
              "       0.        , 0.        , 0.        , 0.        , 0.        ,\n",
              "       0.        , 0.        , 0.        , 0.        , 0.        ,\n",
              "       0.        , 0.        , 0.        , 0.21568628, 0.6745098 ,\n",
              "       0.8862745 , 0.99215686, 0.99215686, 0.99215686, 0.99215686,\n",
              "       0.95686275, 0.52156866, 0.04313726, 0.        , 0.        ,\n",
              "       0.        , 0.        , 0.        , 0.        , 0.        ,\n",
              "       0.        , 0.        , 0.        , 0.        , 0.        ,\n",
              "       0.        , 0.        , 0.        , 0.        , 0.        ,\n",
              "       0.        , 0.53333336, 0.99215686, 0.99215686, 0.99215686,\n",
              "       0.83137256, 0.5294118 , 0.5176471 , 0.0627451 , 0.        ,\n",
              "       0.        , 0.        , 0.        , 0.        , 0.        ,\n",
              "       0.        , 0.        , 0.        , 0.        , 0.        ,\n",
              "       0.        , 0.        , 0.        , 0.        , 0.        ,\n",
              "       0.        , 0.        , 0.        , 0.        , 0.        ,\n",
              "       0.        , 0.        , 0.        , 0.        , 0.        ,\n",
              "       0.        , 0.        , 0.        , 0.        , 0.        ,\n",
              "       0.        , 0.        , 0.        , 0.        , 0.        ,\n",
              "       0.        , 0.        , 0.        , 0.        , 0.        ,\n",
              "       0.        , 0.        , 0.        , 0.        , 0.        ,\n",
              "       0.        , 0.        , 0.        , 0.        , 0.        ,\n",
              "       0.        , 0.        , 0.        , 0.        , 0.        ,\n",
              "       0.        , 0.        , 0.        , 0.        , 0.        ,\n",
              "       0.        , 0.        , 0.        , 0.        , 0.        ,\n",
              "       0.        , 0.        , 0.        , 0.        , 0.        ,\n",
              "       0.        , 0.        , 0.        , 0.        , 0.        ,\n",
              "       0.        , 0.        , 0.        , 0.        , 0.        ,\n",
              "       0.        , 0.        , 0.        , 0.        , 0.        ,\n",
              "       0.        , 0.        , 0.        , 0.        , 0.        ,\n",
              "       0.        , 0.        , 0.        , 0.        , 0.        ,\n",
              "       0.        , 0.        , 0.        , 0.        ], dtype=float32)"
            ]
          },
          "metadata": {},
          "execution_count": 29
        }
      ]
    },
    {
      "cell_type": "code",
      "source": [
        "# first label\n",
        "y_train[0]"
      ],
      "metadata": {
        "id": "DpIZmRFYGqEi",
        "colab": {
          "base_uri": "https://localhost:8080/"
        },
        "outputId": "aee5f019-6317-4d29-f8cb-9af07d3c2df5"
      },
      "execution_count": null,
      "outputs": [
        {
          "output_type": "execute_result",
          "data": {
            "text/plain": [
              "5"
            ]
          },
          "metadata": {},
          "execution_count": 30
        }
      ]
    },
    {
      "cell_type": "markdown",
      "source": [
        "### Making One Hot Encoded vectors"
      ],
      "metadata": {
        "id": "tq-xKya5GxfU"
      }
    },
    {
      "cell_type": "markdown",
      "source": [
        "<img src=\"https://drive.google.com/uc?id=1kq4Mes6zwh1NRRfytPAcWQtx_P-94PGP\" alt =\"diagram 4\" width=500>\n"
      ],
      "metadata": {
        "id": "iqYuAhhzT5xh"
      }
    },
    {
      "cell_type": "code",
      "source": [
        "# number of classes\n",
        "n_classes = 10\n",
        "\n",
        "# Convert Class Scalars to One Hot Encoded vectors\n",
        "y_train = tf.keras.utils.to_categorical(y_train, n_classes)\n",
        "y_test = tf.keras.utils.to_categorical(y_test, n_classes)"
      ],
      "metadata": {
        "id": "1dJn2cdwGy4M"
      },
      "execution_count": null,
      "outputs": []
    },
    {
      "cell_type": "code",
      "source": [
        "# look at our label now\n",
        "y_train[0]"
      ],
      "metadata": {
        "id": "Rge-Ww04G1iV",
        "colab": {
          "base_uri": "https://localhost:8080/"
        },
        "outputId": "38878018-84de-47a9-817d-7510e9de6bd2"
      },
      "execution_count": null,
      "outputs": [
        {
          "output_type": "execute_result",
          "data": {
            "text/plain": [
              "array([0., 0., 0., 0., 0., 1., 0., 0., 0., 0.], dtype=float32)"
            ]
          },
          "metadata": {},
          "execution_count": 32
        }
      ]
    },
    {
      "cell_type": "code",
      "source": [
        "# lets check our tensor shape\n",
        "y_train.shape"
      ],
      "metadata": {
        "id": "qrFlAWgwG2rL",
        "colab": {
          "base_uri": "https://localhost:8080/"
        },
        "outputId": "68cabd1a-9bbc-4242-ca64-08504e3035f7"
      },
      "execution_count": null,
      "outputs": [
        {
          "output_type": "execute_result",
          "data": {
            "text/plain": [
              "(60000, 10)"
            ]
          },
          "metadata": {},
          "execution_count": 33
        }
      ]
    },
    {
      "cell_type": "markdown",
      "source": [
        "### Plotting some examples"
      ],
      "metadata": {
        "id": "lTuaswLgHB85"
      }
    },
    {
      "cell_type": "code",
      "source": [
        "# Method for displaying the number as a picture\n",
        "\n",
        "def show_digit(index):\n",
        "    label = y_train[index].argmax(axis=0)\n",
        "    # Reshape 784 array into 28x28 image\n",
        "    image = x_train[index].reshape([28,28])\n",
        "    fig, axes = plt.subplots(1, )\n",
        "    fig.subplots_adjust(hspace=0.5, wspace=0.5)\n",
        "    plt.title('Training data, index: %d,  Label: %d' % (index, label))\n",
        "    plt.imshow(image, cmap='gray_r')\n",
        "    plt.show()\n",
        "    \n",
        "def show_predicted_digit(image, pred, label):\n",
        "    # Reshape 784 array into 28x28 image\n",
        "    image = image.reshape([28,28])\n",
        "    plt.title('Original Image, Pred: %d,  True Label: %d' %(pred, label))\n",
        "    plt.imshow(image, cmap='gray_r')\n",
        "    plt.show()\n",
        "    \n",
        "# Display the first (index 0) training image\n",
        "show_digit(0)\n",
        "show_digit(4)\n",
        "show_digit(3)"
      ],
      "metadata": {
        "id": "pkofLG-DG56h",
        "colab": {
          "base_uri": "https://localhost:8080/",
          "height": 809
        },
        "outputId": "d57f9c55-2c5e-4f25-e56d-c7f2fa19c369"
      },
      "execution_count": null,
      "outputs": [
        {
          "output_type": "display_data",
          "data": {
            "text/plain": [
              "<Figure size 432x288 with 1 Axes>"
            ],
            "image/png": "[encoded data removed]"
          },
          "metadata": {
            "needs_background": "light"
          }
        },
        {
          "output_type": "display_data",
          "data": {
            "text/plain": [
              "<Figure size 432x288 with 1 Axes>"
            ],
            "image/png": "[encoded data removed]"
          },
          "metadata": {
            "needs_background": "light"
          }
        },
        {
          "output_type": "display_data",
          "data": {
            "text/plain": [
              "<Figure size 432x288 with 1 Axes>"
            ],
            "image/png": "[encoded data removed]"
          },
          "metadata": {
            "needs_background": "light"
          }
        }
      ]
    },
    {
      "cell_type": "markdown",
      "source": [
        "##STEP 3: MODEL TRAINING\n",
        "\n"
      ],
      "metadata": {
        "id": "hqWu9bTe5LJK"
      }
    },
    {
      "cell_type": "markdown",
      "source": [
        "<img src=\"https://drive.google.com/uc?id=1gznLWXPC4QtpzikTi29MYto_x8leo2Cg\" alt =\"first network\" width=500>"
      ],
      "metadata": {
        "id": "gY5acrSqySMY"
      }
    },
    {
      "cell_type": "markdown",
      "source": [
        "### Setting up our Network Hyperparameter"
      ],
      "metadata": {
        "id": "wZawtbx65dwG"
      }
    },
    {
      "cell_type": "code",
      "source": [
        "# Network Parameters\n",
        "n_input = 784 ## MNIST data input (img shape: 28*28 flattened to be 784)\n",
        "n_hidden_1 = 392  # 1st layer number of neurons\n",
        "n_hidden_2 = 100 # 2nd layer number of neurons\n",
        "n_classes = 10 # MNIST classes for prediction(digits 0-9 )\n",
        "\n",
        "\n",
        "# Training Parameters for basic MNIST\n",
        "learning_rate = 0.001\n",
        "training_epochs = 10\n",
        "batch_size = 100"
      ],
      "metadata": {
        "id": "y-kvGzpD5en5"
      },
      "execution_count": null,
      "outputs": []
    },
    {
      "cell_type": "markdown",
      "source": [
        "**learning_rate** = How big is the step when stepping down the mountain \n",
        "\n",
        "*   *step size at each iteration while moving toward a minimum of a loss function* \n",
        "\n",
        "\n",
        "**epochs** = How many times does the model see all the data\n",
        "\n",
        "**batch_size** = How many training data to form a smaller \"group\""
      ],
      "metadata": {
        "id": "ptr1b1LNmt5E"
      }
    },
    {
      "cell_type": "markdown",
      "source": [
        "<img src=\"https://drive.google.com/uc?id=1-HKqnXRsPWTwvp4vOMFKgn-8ys7V21wA\" alt =\"second network\" width=500>\n",
        "\n",
        "\n",
        "If you are confuse about epochs & batch size, read more at [a Medium article](https://towardsdatascience.com/epoch-vs-iterations-vs-batch-size-4dfb9c7ce9c9#:~:text=%20Epoch%20vs%20Batch%20Size%20vs%20Iterations%20,one%20epoch.%20Note%3A%20The%20number%20of...%20More%20) "
      ],
      "metadata": {
        "id": "elbOnR_y04nH"
      }
    },
    {
      "cell_type": "markdown",
      "source": [
        "### Lets build our first network"
      ],
      "metadata": {
        "id": "A3OXVgOX5j2L"
      }
    },
    {
      "cell_type": "code",
      "source": [
        "# building the model\n",
        "Inp = Input(shape=(n_input,), name = 'Input')\n",
        "x = Dense(n_hidden_1, activation='relu', name='Dense_01')(Inp)\n",
        "x = Dense(n_hidden_2, activation='relu', name='Dense_02')(x)\n",
        "outputs = Dense(n_classes, activation='softmax', name='Output')(x)\n",
        "\n",
        "model = Model(Inp, outputs, name='basic_mnist_model')"
      ],
      "metadata": {
        "id": "egxEmnfr5mL8"
      },
      "execution_count": null,
      "outputs": []
    },
    {
      "cell_type": "markdown",
      "source": [
        "####📝Explanation on activation function\n"
      ],
      "metadata": {
        "id": "P3oLGaMSpbt_"
      }
    },
    {
      "cell_type": "markdown",
      "source": [
        "<img src=\"https://drive.google.com/uc?id=1ADt3fosIfiSwZ-W0ldj7A47_Z2IJyN-Y\" alt =\"activation function\" width=500>\n",
        "\n",
        "**relu**\n",
        "*   negative value --> 0\n",
        "*   postive value --> remain\n",
        "\n",
        "**softmax**\n",
        "*   convert input values into probability distribution [0-1]\n",
        "\n",
        "`` ``\n",
        "\n",
        "You can read more here:\n",
        "*  [About Relu](https://deepai.org/machine-learning-glossary-and-terms/relu) \n",
        "*  [About Softmax](https://deepai.org/machine-learning-glossary-and-terms/softmax-layer0) \n",
        "*  [More about function](https://deepai.org/machine-learning-glossary-and-terms/activation-function)"
      ],
      "metadata": {
        "id": "EBjX4Q5upPGW"
      }
    },
    {
      "cell_type": "markdown",
      "source": [
        "### Let's take a look at the model and its parameter"
      ],
      "metadata": {
        "id": "GXtqbpXTp6Dn"
      }
    },
    {
      "cell_type": "code",
      "source": [
        "# lets look at the model\n",
        "model.summary()"
      ],
      "metadata": {
        "id": "oMBSdvXv5pAJ",
        "colab": {
          "base_uri": "https://localhost:8080/"
        },
        "outputId": "82bd5666-6f00-48d2-ca67-da10c927602e"
      },
      "execution_count": null,
      "outputs": [
        {
          "output_type": "stream",
          "name": "stdout",
          "text": [
            "Model: \"basic_mnist_model\"\n",
            "_________________________________________________________________\n",
            " Layer (type)                Output Shape              Param #   \n",
            "=================================================================\n",
            " Input (InputLayer)          [(None, 784)]             0         \n",
            "                                                                 \n",
            " Dense_01 (Dense)            (None, 392)               307720    \n",
            "                                                                 \n",
            " Dense_02 (Dense)            (None, 100)               39300     \n",
            "                                                                 \n",
            " Output (Dense)              (None, 10)                1010      \n",
            "                                                                 \n",
            "=================================================================\n",
            "Total params: 348,030\n",
            "Trainable params: 348,030\n",
            "Non-trainable params: 0\n",
            "_________________________________________________________________\n"
          ]
        }
      ]
    },
    {
      "cell_type": "markdown",
      "source": [
        "#### 📝Explanation on parameters."
      ],
      "metadata": {
        "id": "_-bCX02IqNHc"
      }
    },
    {
      "cell_type": "markdown",
      "source": [
        "<img src=\"https://drive.google.com/uc?id=1KuSgn6Pt37HkLekAz3HWcF3SU_ewIS6a\" alt =\"third network\" width=500>\n",
        "\n",
        "layer 1 = (392 units * 784 weights) + (392 units * 1 bias)  = 307,720  \n",
        "\n",
        "layer 2 = (100 units * 392 weights) + (100 units * 1 bias)  = 39,300  \n",
        "\n",
        "layer 3 = (10 units * 100) +(10 units * bias)\n",
        "\n",
        "\n",
        "Read more about the equation work together with the activation function we mentioned just now at [here](https://becominghuman.ai/understanding-neural-networks-2-the-math-of-neural-networks-in-3-equations-6085fd3f09df) \n",
        "\n"
      ],
      "metadata": {
        "id": "0iY-poSD5rhy"
      }
    },
    {
      "cell_type": "code",
      "source": [
        "# plot the model out\n",
        "plot_model(model, to_file='first_model.png')"
      ],
      "metadata": {
        "id": "PwXNZqLV5t4-",
        "colab": {
          "base_uri": "https://localhost:8080/",
          "height": 369
        },
        "outputId": "82d95efd-46be-4384-d6e1-cd39e5345c99"
      },
      "execution_count": null,
      "outputs": [
        {
          "output_type": "execute_result",
          "data": {
            "text/plain": [
              "<IPython.core.display.Image object>"
            ],
            "image/png": "[encoded data removed]"
          },
          "metadata": {},
          "execution_count": 38
        }
      ]
    },
    {
      "cell_type": "markdown",
      "source": [
        "### Create the optimizer and compile the graph"
      ],
      "metadata": {
        "id": "_HnqOkmo52Vn"
      }
    },
    {
      "cell_type": "code",
      "source": [
        "# setting up our Optimizer\n",
        "opt = SGD(learning_rate = learning_rate)"
      ],
      "metadata": {
        "id": "Zp3aJNa553eO"
      },
      "execution_count": null,
      "outputs": []
    },
    {
      "cell_type": "markdown",
      "source": [
        "#### 📝Explanation on SGD.\n"
      ],
      "metadata": {
        "id": "zbw5Oh0stJXJ"
      }
    },
    {
      "cell_type": "markdown",
      "source": [
        "<img src=\"https://drive.google.com/uc?id=1I1ZJQxiSKZdiLEw0k1VMJBZvXX0QndfB\" alt =\"SGD\" width=500>\n",
        "\n",
        "You can read more here [about optimiser including stochastic gradient descent](https://medium.com/nerd-for-tech/optimizers-for-neural-networks-a74cb4152307) "
      ],
      "metadata": {
        "id": "S3vLO7NivJeD"
      }
    },
    {
      "cell_type": "markdown",
      "source": [
        "#### Compiling the model"
      ],
      "metadata": {
        "id": "Qwymq08wuSkU"
      }
    },
    {
      "cell_type": "code",
      "source": [
        "# compile the model\n",
        "model.compile(loss='categorical_crossentropy', \n",
        "              optimizer=opt, \n",
        "              metrics=['accuracy'])"
      ],
      "metadata": {
        "id": "BVLnOMrB54uc"
      },
      "execution_count": null,
      "outputs": []
    },
    {
      "cell_type": "markdown",
      "source": [
        "#### 📝Explanation on loss\n",
        "\n",
        "\n",
        "*   measure how far an estimated value is from its true value\n",
        "*   List item\n",
        "\n"
      ],
      "metadata": {
        "id": "f-zhYV7aucNy"
      }
    },
    {
      "cell_type": "markdown",
      "source": [
        "<img src=\"https://drive.google.com/uc?id=1M2AXS1hAAWj9CzaI-eVloPe-IT0QhZPt\" alt =\"SGD\" width=500>\n",
        "\n",
        "You can read more here [about categorical crossentropy](https://peltarion.com/knowledge-center/documentation/modeling-view/build-an-ai-model/loss-functions/categorical-crossentropy)"
      ],
      "metadata": {
        "id": "WXk_l_Z8vHrC"
      }
    },
    {
      "cell_type": "markdown",
      "source": [
        "### Training time\n",
        "\n",
        "we fit the model using the data we pass in to it \n",
        "\n",
        "AKA training the model"
      ],
      "metadata": {
        "id": "lwmMXbdW56oX"
      }
    },
    {
      "cell_type": "code",
      "source": [
        "# train the model\n",
        "model.fit(x_train, y_train,\n",
        "          batch_size=batch_size,\n",
        "          epochs=training_epochs,\n",
        "          verbose=1,\n",
        "          validation_data=(x_test, y_test))"
      ],
      "metadata": {
        "id": "1cMndJkV56Ha",
        "colab": {
          "base_uri": "https://localhost:8080/"
        },
        "outputId": "e1146173-c75d-4bba-c83f-caf77a4eafc3"
      },
      "execution_count": null,
      "outputs": [
        {
          "output_type": "stream",
          "name": "stdout",
          "text": [
            "Epoch 1/10\n",
            "600/600 [==============================] - 4s 3ms/step - loss: 2.0960 - accuracy: 0.3595 - val_loss: 1.8758 - val_accuracy: 0.5802\n",
            "Epoch 2/10\n",
            "600/600 [==============================] - 2s 3ms/step - loss: 1.6620 - accuracy: 0.6674 - val_loss: 1.4298 - val_accuracy: 0.7357\n",
            "Epoch 3/10\n",
            "600/600 [==============================] - 2s 3ms/step - loss: 1.2609 - accuracy: 0.7645 - val_loss: 1.0739 - val_accuracy: 0.8029\n",
            "Epoch 4/10\n",
            "600/600 [==============================] - 2s 3ms/step - loss: 0.9741 - accuracy: 0.8107 - val_loss: 0.8440 - val_accuracy: 0.8342\n",
            "Epoch 5/10\n",
            "600/600 [==============================] - 2s 3ms/step - loss: 0.7929 - accuracy: 0.8355 - val_loss: 0.7017 - val_accuracy: 0.8530\n",
            "Epoch 6/10\n",
            "600/600 [==============================] - 2s 3ms/step - loss: 0.6783 - accuracy: 0.8514 - val_loss: 0.6103 - val_accuracy: 0.8641\n",
            "Epoch 7/10\n",
            "600/600 [==============================] - 2s 3ms/step - loss: 0.6025 - accuracy: 0.8611 - val_loss: 0.5482 - val_accuracy: 0.8713\n",
            "Epoch 8/10\n",
            "600/600 [==============================] - 2s 3ms/step - loss: 0.5495 - accuracy: 0.8691 - val_loss: 0.5040 - val_accuracy: 0.8789\n",
            "Epoch 9/10\n",
            "600/600 [==============================] - 2s 3ms/step - loss: 0.5103 - accuracy: 0.8752 - val_loss: 0.4707 - val_accuracy: 0.8818\n",
            "Epoch 10/10\n",
            "600/600 [==============================] - 2s 3ms/step - loss: 0.4802 - accuracy: 0.8799 - val_loss: 0.4448 - val_accuracy: 0.8869\n"
          ]
        },
        {
          "output_type": "execute_result",
          "data": {
            "text/plain": [
              "<keras.callbacks.History at 0x7f9290604990>"
            ]
          },
          "metadata": {},
          "execution_count": 41
        }
      ]
    },
    {
      "cell_type": "code",
      "source": [
        "# evaluate the model\n",
        "score = model.evaluate(x_test, y_test)\n",
        "\n",
        "print('Test loss:', score[0])\n",
        "print('Test accuracy:', score[1])"
      ],
      "metadata": {
        "id": "tIBkaJWT6AZd",
        "colab": {
          "base_uri": "https://localhost:8080/"
        },
        "outputId": "173f72b3-857c-422f-9932-cab3f7e23f07"
      },
      "execution_count": null,
      "outputs": [
        {
          "output_type": "stream",
          "name": "stdout",
          "text": [
            "313/313 [==============================] - 1s 3ms/step - loss: 0.4448 - accuracy: 0.8869\n",
            "Test loss: 0.4448145925998688\n",
            "Test accuracy: 0.886900007724762\n"
          ]
        }
      ]
    },
    {
      "cell_type": "markdown",
      "source": [
        "### Overfitting & tips on adjusting values"
      ],
      "metadata": {
        "id": "xpqbHJQn6CRY"
      }
    },
    {
      "cell_type": "code",
      "source": [
        "# train the model\n",
        "model.fit(x_train, y_train,\n",
        "          batch_size=batch_size,\n",
        "          epochs=training_epochs,\n",
        "          verbose=1,\n",
        "          validation_data=(x_test,y_test))"
      ],
      "metadata": {
        "id": "VDfj0boF6Kkn",
        "colab": {
          "base_uri": "https://localhost:8080/"
        },
        "outputId": "930aab76-35e0-485b-bee8-a9ecc840318a"
      },
      "execution_count": null,
      "outputs": [
        {
          "output_type": "stream",
          "name": "stdout",
          "text": [
            "Epoch 1/10\n",
            "600/600 [==============================] - 2s 3ms/step - loss: 0.4564 - accuracy: 0.8835 - val_loss: 0.4239 - val_accuracy: 0.8899\n",
            "Epoch 2/10\n",
            "600/600 [==============================] - 2s 3ms/step - loss: 0.4369 - accuracy: 0.8867 - val_loss: 0.4073 - val_accuracy: 0.8932\n",
            "Epoch 3/10\n",
            "600/600 [==============================] - 2s 3ms/step - loss: 0.4207 - accuracy: 0.8895 - val_loss: 0.3927 - val_accuracy: 0.8963\n",
            "Epoch 4/10\n",
            "600/600 [==============================] - 2s 3ms/step - loss: 0.4069 - accuracy: 0.8917 - val_loss: 0.3803 - val_accuracy: 0.8982\n",
            "Epoch 5/10\n",
            "600/600 [==============================] - 2s 3ms/step - loss: 0.3949 - accuracy: 0.8947 - val_loss: 0.3699 - val_accuracy: 0.9011\n",
            "Epoch 6/10\n",
            "600/600 [==============================] - 2s 3ms/step - loss: 0.3846 - accuracy: 0.8969 - val_loss: 0.3609 - val_accuracy: 0.9030\n",
            "Epoch 7/10\n",
            "600/600 [==============================] - 2s 3ms/step - loss: 0.3753 - accuracy: 0.8989 - val_loss: 0.3526 - val_accuracy: 0.9035\n",
            "Epoch 8/10\n",
            "600/600 [==============================] - 2s 3ms/step - loss: 0.3670 - accuracy: 0.9005 - val_loss: 0.3452 - val_accuracy: 0.9067\n",
            "Epoch 9/10\n",
            "600/600 [==============================] - 2s 3ms/step - loss: 0.3595 - accuracy: 0.9016 - val_loss: 0.3386 - val_accuracy: 0.9074\n",
            "Epoch 10/10\n",
            "600/600 [==============================] - 2s 3ms/step - loss: 0.3527 - accuracy: 0.9034 - val_loss: 0.3328 - val_accuracy: 0.9079\n"
          ]
        },
        {
          "output_type": "execute_result",
          "data": {
            "text/plain": [
              "<keras.callbacks.History at 0x7f9328640710>"
            ]
          },
          "metadata": {},
          "execution_count": 43
        }
      ]
    },
    {
      "cell_type": "markdown",
      "source": [
        "#### A little bit more on customising the model for different datasets\n",
        "\n",
        "\n",
        "*   Naming convention\n",
        "*   Number of layers\n",
        "*   Number of neurons\n",
        "*   Training Epochs\n",
        "*   Batch size\n",
        "*   Learning rate\n",
        "\n",
        "\n"
      ],
      "metadata": {
        "id": "uGS946jxVvk-"
      }
    },
    {
      "cell_type": "markdown",
      "source": [
        "## 🤔What's next?"
      ],
      "metadata": {
        "id": "NovhRqwBrjzq"
      }
    },
    {
      "cell_type": "markdown",
      "source": [
        "#### 📖Self Learning\n",
        "More datasets from Tensorflow:\n",
        "1. Extended MNIST (include handwritten uppercase & lowercase letters with digits)\n",
        "```\n",
        "import tensorflow_datasets as tfds\n",
        "train,test = tfds.load('emnist', split=['train', 'test'])\n",
        "```\n",
        "2. Kuzushiji MNIST (on Classical Japanese Literature)\n",
        "```\n",
        "import tensorflow_datasets as tfds\n",
        "train,test = tfds.load('kmnist', split=['train', 'test'])\n",
        "```\n",
        "3. More in https://analyticsindiamag.com/mnist/\n",
        "\n",
        "\n",
        "External datasets:\n",
        "1.   https://archive.ics.uci.edu/ml/datasets/Letter+Recognition\n",
        "2.   https://www.nist.gov/itl/products-and-services/emnist-dataset\n",
        "\n",
        "\n",
        "\n"
      ],
      "metadata": {
        "id": "e6cFQwpb9GaP"
      }
    }
  ]
}